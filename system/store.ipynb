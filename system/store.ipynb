{
 "cells": [
  {
   "cell_type": "code",
   "execution_count": 1,
   "id": "ba6c9f5a",
   "metadata": {},
   "outputs": [],
   "source": [
    "# 재고 변경 이력 기록 함수\n",
    "# 파라미터(message) 타입 = str\n",
    "import pandas as pd\n",
    "import datetime\n",
    "def write_log(message):\n",
    "    log = open('inventory/store_log.txt', mode = 'at', encoding = 'utf-8')\n",
    "    log.write('\\n------' + str(datetime.datetime.now()) + '------\\n')\n",
    "    log.write(message)\n",
    "    log.write('\\n------------end------------\\n')\n",
    "    log.close()"
   ]
  },
  {
   "cell_type": "code",
   "execution_count": 2,
   "id": "32edf649",
   "metadata": {},
   "outputs": [
    {
     "name": "stdout",
     "output_type": "stream",
     "text": [
      "=== 무인 편의점 계산 시스템 ===\n",
      "계산하시겠습니까? (Y/N) : Y\n",
      "몇 개를 계산하나요? : 1\n",
      "결제가 완료되었습니다!\n",
      "관리자 확인 : 남은 재고는 4개 입니다.\n",
      "계산하시겠습니까? (Y/N) : Y\n",
      "몇 개를 계산하나요? : 1\n",
      "결제가 완료되었습니다!\n",
      "관리자 확인 : 남은 재고는 3개 입니다.\n",
      "계산하시겠습니까? (Y/N) : Y\n",
      "몇 개를 계산하나요? : 1\n",
      "결제가 완료되었습니다!\n",
      "관리자 확인 : 남은 재고는 2개 입니다.\n"
     ]
    },
    {
     "ename": "KeyboardInterrupt",
     "evalue": "Interrupted by user",
     "output_type": "error",
     "traceback": [
      "\u001b[0;31m---------------------------------------------------------------------------\u001b[0m",
      "\u001b[0;31mKeyboardInterrupt\u001b[0m                         Traceback (most recent call last)",
      "\u001b[0;32m/tmp/ipykernel_7719/3617879778.py\u001b[0m in \u001b[0;36m<module>\u001b[0;34m\u001b[0m\n\u001b[1;32m     14\u001b[0m     \u001b[0mstock\u001b[0m \u001b[0;34m=\u001b[0m \u001b[0mdf\u001b[0m\u001b[0;34m.\u001b[0m\u001b[0mloc\u001b[0m\u001b[0;34m[\u001b[0m\u001b[0;34m'바나나우유'\u001b[0m\u001b[0;34m]\u001b[0m\u001b[0;34m[\u001b[0m\u001b[0;36m0\u001b[0m\u001b[0;34m]\u001b[0m\u001b[0;34m\u001b[0m\u001b[0;34m\u001b[0m\u001b[0m\n\u001b[1;32m     15\u001b[0m \u001b[0;34m\u001b[0m\u001b[0m\n\u001b[0;32m---> 16\u001b[0;31m     \u001b[0mcal\u001b[0m \u001b[0;34m=\u001b[0m \u001b[0mstr\u001b[0m\u001b[0;34m(\u001b[0m\u001b[0minput\u001b[0m\u001b[0;34m(\u001b[0m\u001b[0;34m\"계산하시겠습니까? (Y/N) : \"\u001b[0m\u001b[0;34m)\u001b[0m\u001b[0;34m)\u001b[0m\u001b[0;34m\u001b[0m\u001b[0;34m\u001b[0m\u001b[0m\n\u001b[0m\u001b[1;32m     17\u001b[0m     \u001b[0;31m#계산에서 Y 일경우(계산하는 경우)\u001b[0m\u001b[0;34m\u001b[0m\u001b[0;34m\u001b[0m\u001b[0;34m\u001b[0m\u001b[0m\n\u001b[1;32m     18\u001b[0m     \u001b[0;32mif\u001b[0m \u001b[0mcal\u001b[0m \u001b[0;34m==\u001b[0m \u001b[0;34m\"Y\"\u001b[0m\u001b[0;34m:\u001b[0m\u001b[0;34m\u001b[0m\u001b[0;34m\u001b[0m\u001b[0m\n",
      "\u001b[0;32m/usr/local/lib/python3.7/dist-packages/ipykernel/kernelbase.py\u001b[0m in \u001b[0;36mraw_input\u001b[0;34m(self, prompt)\u001b[0m\n\u001b[1;32m   1008\u001b[0m             \u001b[0mself\u001b[0m\u001b[0;34m.\u001b[0m\u001b[0m_parent_ident\u001b[0m\u001b[0;34m[\u001b[0m\u001b[0;34m\"shell\"\u001b[0m\u001b[0;34m]\u001b[0m\u001b[0;34m,\u001b[0m\u001b[0;34m\u001b[0m\u001b[0;34m\u001b[0m\u001b[0m\n\u001b[1;32m   1009\u001b[0m             \u001b[0mself\u001b[0m\u001b[0;34m.\u001b[0m\u001b[0mget_parent\u001b[0m\u001b[0;34m(\u001b[0m\u001b[0;34m\"shell\"\u001b[0m\u001b[0;34m)\u001b[0m\u001b[0;34m,\u001b[0m\u001b[0;34m\u001b[0m\u001b[0;34m\u001b[0m\u001b[0m\n\u001b[0;32m-> 1010\u001b[0;31m             \u001b[0mpassword\u001b[0m\u001b[0;34m=\u001b[0m\u001b[0;32mFalse\u001b[0m\u001b[0;34m,\u001b[0m\u001b[0;34m\u001b[0m\u001b[0;34m\u001b[0m\u001b[0m\n\u001b[0m\u001b[1;32m   1011\u001b[0m         )\n\u001b[1;32m   1012\u001b[0m \u001b[0;34m\u001b[0m\u001b[0m\n",
      "\u001b[0;32m/usr/local/lib/python3.7/dist-packages/ipykernel/kernelbase.py\u001b[0m in \u001b[0;36m_input_request\u001b[0;34m(self, prompt, ident, parent, password)\u001b[0m\n\u001b[1;32m   1049\u001b[0m             \u001b[0;32mexcept\u001b[0m \u001b[0mKeyboardInterrupt\u001b[0m\u001b[0;34m:\u001b[0m\u001b[0;34m\u001b[0m\u001b[0;34m\u001b[0m\u001b[0m\n\u001b[1;32m   1050\u001b[0m                 \u001b[0;31m# re-raise KeyboardInterrupt, to truncate traceback\u001b[0m\u001b[0;34m\u001b[0m\u001b[0;34m\u001b[0m\u001b[0;34m\u001b[0m\u001b[0m\n\u001b[0;32m-> 1051\u001b[0;31m                 \u001b[0;32mraise\u001b[0m \u001b[0mKeyboardInterrupt\u001b[0m\u001b[0;34m(\u001b[0m\u001b[0;34m\"Interrupted by user\"\u001b[0m\u001b[0;34m)\u001b[0m \u001b[0;32mfrom\u001b[0m \u001b[0;32mNone\u001b[0m\u001b[0;34m\u001b[0m\u001b[0;34m\u001b[0m\u001b[0m\n\u001b[0m\u001b[1;32m   1052\u001b[0m             \u001b[0;32mexcept\u001b[0m \u001b[0mException\u001b[0m\u001b[0;34m:\u001b[0m\u001b[0;34m\u001b[0m\u001b[0;34m\u001b[0m\u001b[0m\n\u001b[1;32m   1053\u001b[0m                 \u001b[0mself\u001b[0m\u001b[0;34m.\u001b[0m\u001b[0mlog\u001b[0m\u001b[0;34m.\u001b[0m\u001b[0mwarning\u001b[0m\u001b[0;34m(\u001b[0m\u001b[0;34m\"Invalid Message:\"\u001b[0m\u001b[0;34m,\u001b[0m \u001b[0mexc_info\u001b[0m\u001b[0;34m=\u001b[0m\u001b[0;32mTrue\u001b[0m\u001b[0;34m)\u001b[0m\u001b[0;34m\u001b[0m\u001b[0;34m\u001b[0m\u001b[0m\n",
      "\u001b[0;31mKeyboardInterrupt\u001b[0m: Interrupted by user"
     ]
    }
   ],
   "source": [
    "# 계산 및 재고 관리 시스템\n",
    "print(\"=== 무인 편의점 계산 시스템 ===\")\n",
    "\n",
    "# 재고(stock)의 기본값 정의\n",
    "stock = 0\n",
    "# 살 개수의 변수 정의\n",
    "count = 0\n",
    "\n",
    "# 반복문으로 계산 프로그램 구현\n",
    "while True:\n",
    "    # 재고 파일 불러오기\n",
    "    df = pd.read_csv(\"inventory/inventory_store.csv\")\n",
    "    df = df.set_index('상품명')\n",
    "    stock = df.loc['바나나우유'][0] \n",
    "    \n",
    "    cal = str(input(\"계산하시겠습니까? (Y/N) : \"))\n",
    "    #계산에서 Y 일경우(계산하는 경우)\n",
    "    if cal == \"Y\":\n",
    "        count = int(input(\"몇 개를 계산하나요? : \"))\n",
    "        if stock >= count:\n",
    "            stock = stock - count\n",
    "            # 재고 변경 이력 기록\n",
    "            message = '상품명 : ' + '바나나우유' + '\\n개수 변경 ( ' + str(df.loc['바나나우유'][0]) + ' -> ' + str(stock) + ' )'\n",
    "            write_log(message)\n",
    "            # 재고 정보 갱신\n",
    "            df.loc['바나나우유'][0] = stock \n",
    "            df.to_csv(\"inventory/inventory_store.csv\")\n",
    "            print(\"결제가 완료되었습니다!\")\n",
    "        else:\n",
    "            print(\"재고가 부족합니다! 남은 재고는 %d개 입니다!\"%stock)\n",
    "            print(\"필요시 ###-####으로 연락주세요!\")\n",
    "            continue\n",
    "        #관리자 확인용 재고 알림\n",
    "        print(\"관리자 확인 : 남은 재고는 %d개 입니다.\"%stock)\n",
    "    elif cal == \"N\":\n",
    "        print(\"계산하지 않았습니다!\")\n",
    "        #관리자 확인용 재고 알림\n",
    "        print(\"관리자 확인 : 남은 재고는 %d개 입니다.\"%stock)\n",
    "    else:\n",
    "        print(\"잘못된 입력값입니다!\")\n",
    "\n",
    "    if stock <= 0:\n",
    "        print(\"재고가 남아있지 않습니다! 필요시 ###-####으로 연락주세요!\")\n",
    "        break\n"
   ]
  },
  {
   "cell_type": "code",
   "execution_count": null,
   "id": "7e3d1a14",
   "metadata": {},
   "outputs": [],
   "source": []
  }
 ],
 "metadata": {
  "kernelspec": {
   "display_name": "Python 3 (ipykernel)",
   "language": "python",
   "name": "python3"
  },
  "language_info": {
   "codemirror_mode": {
    "name": "ipython",
    "version": 3
   },
   "file_extension": ".py",
   "mimetype": "text/x-python",
   "name": "python",
   "nbconvert_exporter": "python",
   "pygments_lexer": "ipython3",
   "version": "3.7.3"
  }
 },
 "nbformat": 4,
 "nbformat_minor": 5
}
