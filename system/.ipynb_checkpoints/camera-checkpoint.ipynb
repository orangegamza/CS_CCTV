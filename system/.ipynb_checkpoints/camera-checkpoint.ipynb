{
 "cells": [
  {
   "cell_type": "code",
   "execution_count": 1,
   "id": "2d5879d9",
   "metadata": {},
   "outputs": [],
   "source": [
    "# camera\n",
    "from picamera import PiCamera\n",
    "# image processing\n",
    "from PIL import Image\n",
    "import numpy as np\n",
    "# sleep() now()\n",
    "from time import sleep\n",
    "import datetime\n",
    "# for removing videos\n",
    "import os\n",
    "\n",
    "camera = PiCamera()\n",
    "camera.resolution = (360, 280)\n",
    "original = np.asarray(Image.open('test.jpg')) # 원본 사진(사람이 없을 때) 열기\n",
    "videoList = []\n",
    "\n",
    "def customerExists(org, thres):\n",
    "    sleep(1)\n",
    "    \n",
    "    now = datetime.datetime.now()  # 현재 시간 저장\n",
    "    filename = now.strftime('%Y-%m-%d %H:%M:%S') # 파일 이름 설정(현재 시간 기반)\n",
    "    \n",
    "    camera.capture(filename + \".jpg\") # 현재 사진 촬영\n",
    "    img = np.asarray(Image.open(filename + \".jpg\")) # 현재 사진 행렬 정보 가져오기\n",
    "\n",
    "    diff = org - img # 원본 사진과 현재 사진 행렬 값 차이 계산\n",
    "    if np.sum(diff) > thres: # if customer exists\n",
    "        camera.start_recording(output = filename + \".h264\")\n",
    "        sleep(10)\n",
    "        camera.stop_recording()\n",
    "        \n",
    "        videoList.append(filename)\n",
    "        return True\n",
    "    \n",
    "    else:\n",
    "        for video in videoList:\n",
    "            os.remove(video + \".h264\")\n",
    "            os.remove(video + \".jpg\")\n",
    "        videoList = []\n",
    "        return False"
   ]
  },
  {
   "cell_type": "code",
   "execution_count": null,
   "id": "80184f08",
   "metadata": {},
   "outputs": [],
   "source": [
    "# 재고 비교 함수\n",
    "def cmpInven():\n",
    "    df_store = pd.read_csv(\"inventory/inventory_store.csv\")\n",
    "    df_weight = pd.read_csv(\"inventory/inventory_weight.csv\")\n",
    "    \n",
    "    df_store = df.set_index('상품명')\n",
    "    df_weight = df.set_index('상품명')\n",
    "    \n",
    "    count1 = df_store.loc['바나나우유'][0] \n",
    "    count2 = df_weight.loc['바나나우유'][0] \n",
    "    \n",
    "    if count1 != count2:  # 무게 측정 재고와 결재 재고가 같은 경우\n",
    "        return 0\n",
    "    else:                        # 무게 측정 재고와 결재 재고가 다른 경우\n",
    "        return 1"
   ]
  },
  {
   "cell_type": "code",
   "execution_count": null,
   "id": "14388e02",
   "metadata": {},
   "outputs": [],
   "source": [
    "while(1):\n",
    "    if customerExists(original, 30) : # 사람이 있는 경우\n",
    "        \n",
    "    else: # 사람이 없는 경우\n",
    "        if comInven():  # 결재 재고와 무게 재고가 다른 경우 (도난 발생)\n",
    "            \n",
    "        else:  # 결재 재고와 무게 재고가 같은 경우\n",
    "            continue\n",
    "            "
   ]
  },
  {
   "cell_type": "code",
   "execution_count": null,
   "id": "450bfd35",
   "metadata": {},
   "outputs": [],
   "source": []
  }
 ],
 "metadata": {
  "kernelspec": {
   "display_name": "Python 3 (ipykernel)",
   "language": "python",
   "name": "python3"
  },
  "language_info": {
   "codemirror_mode": {
    "name": "ipython",
    "version": 3
   },
   "file_extension": ".py",
   "mimetype": "text/x-python",
   "name": "python",
   "nbconvert_exporter": "python",
   "pygments_lexer": "ipython3",
   "version": "3.7.3"
  }
 },
 "nbformat": 4,
 "nbformat_minor": 5
}
