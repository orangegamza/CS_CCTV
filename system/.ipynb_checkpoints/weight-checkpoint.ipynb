{
 "cells": [
  {
   "cell_type": "code",
   "execution_count": null,
   "id": "4cf0f499",
   "metadata": {},
   "outputs": [],
   "source": [
    "import time\n",
    "import sys\n",
    "\n",
    "EMULATE_HX711=False     # HX711 에뮬레이터 사용여부(현재 사용하지 않음)\n",
    "\n",
    "referenceUnit = -379          # 기준 저항값(1.25kg의 무게추를 기반으로 설정)\n",
    "\n",
    "if not EMULATE_HX711:     # HX711 에뮬레이터를 사용하지 않을 때(GPIO 모듈 사용)\n",
    "    import RPi.GPIO as GPIO\n",
    "    from hx711 import HX711\n",
    "else:                                 # HX711 에뮬레이터를 사용할 때\n",
    "    from emulated_hx711 import HX711\n",
    "\n",
    "def cleanAndExit():             # 프로그램 종료 프로세스\n",
    "    print(\"Cleaning...\")\n",
    "\n",
    "    if not EMULATE_HX711:     # HX711 에뮬레이터를 사용하지 않을 때 GPIO모듈의 cleanup 함수 이용\n",
    "        GPIO.cleanup()\n",
    "        \n",
    "    print(\"Bye!\")\n",
    "    sys.exit()"
   ]
  },
  {
   "cell_type": "code",
   "execution_count": 77,
   "id": "5ba9e929",
   "metadata": {},
   "outputs": [],
   "source": [
    "# 재고 변경 이력 기록 함수\n",
    "# 파라미터(message) 타입 = str\n",
    "import datetime\n",
    "def write_log(message):\n",
    "    log = open('inventory/weight_log.txt', mode = 'at', encoding = 'utf-8')\n",
    "    log.write('\\n------' + str(datetime.datetime.now()) + '------\\n')\n",
    "    log.write(message)\n",
    "    log.write('\\n------------end------------\\n')\n",
    "    log.close()"
   ]
  },
  {
   "cell_type": "code",
   "execution_count": null,
   "id": "b1c212d8",
   "metadata": {},
   "outputs": [],
   "source": [
    "# 재고 파일 불러오기\n",
    "import pandas as pd\n",
    "df = pd.read_csv(\"inventory/inventory_weight.csv\")\n",
    "df = df.set_index('상품명')"
   ]
  },
  {
   "cell_type": "code",
   "execution_count": null,
   "id": "56990e5b",
   "metadata": {},
   "outputs": [],
   "source": [
    "# 저울 가동\n",
    "hx = HX711(20,16)            # DT,SDK 핀이 연결된 GPIO 설정\n",
    "\n",
    "hx.set_reading_format(\"MSB\", \"MSB\")   # hx711의 데이터 읽기 형식 설정\n",
    "\n",
    "hx.set_reference_unit(referenceUnit)      # hx711 모듈에 기준 저항값 적용\n",
    "\n",
    "hx.reset()    # 모듈 초기화\n",
    "\n",
    "hx.tare()      # 저울 기본 세팅(로드셀 위의 선반 무게 추출) \n",
    "\n",
    "print(\"Tare done! Add weight now...\")"
   ]
  },
  {
   "cell_type": "code",
   "execution_count": null,
   "id": "f652f8d7",
   "metadata": {},
   "outputs": [],
   "source": [
    "pre_data = 0 # 이전 루틴의 물품 개수\n",
    "while True:\n",
    "    try:\n",
    "        pre_data = df.loc['바나나우유'][0]\n",
    "        val = round(hx.get_weight(5))   # 무게 측정 후 추출 (5는 측정 시 조정에 사용되는 값 개수, 작을수록 부정확&빠름)\n",
    "        print(str(val)+'g')                     # 무게 출력\n",
    "\n",
    "        hx.power_down()\n",
    "        hx.power_up()\n",
    "        time.sleep(0.1)\n",
    "        \n",
    "        if int(val/df.loc['바나나우유'][2]) != pre_data:   # 이전 루틴의 물품 개수가 현재 루틴의 물품개수와 다를 경우\n",
    "            # 재고 정보 갱신\n",
    "            df.loc['바나나우유'][0] = int(val/df.loc['바나나우유'][2])\n",
    "            df.to_csv(\"inventory/inventory_weight.csv\")\n",
    "            \n",
    "            # 재고 변경 이력 기록\n",
    "            message = '상품명 : ' + '바나나우유' + '\\n개수 변경 ( ' + str(predata) + ' -> ' + str(int(val/df.loc['바나나우유'][2])) + ' )'\n",
    "            write_log(message)\n",
    "        else:\n",
    "            continue\n",
    "\n",
    "    except (KeyboardInterrupt, SystemExit):  # 인터럽트 발생 시 프로그램 종료\n",
    "        cleanAndExit()"
   ]
  },
  {
   "cell_type": "code",
   "execution_count": null,
   "id": "30bc1514",
   "metadata": {},
   "outputs": [],
   "source": []
  }
 ],
 "metadata": {
  "kernelspec": {
   "display_name": "Python 3 (ipykernel)",
   "language": "python",
   "name": "python3"
  },
  "language_info": {
   "codemirror_mode": {
    "name": "ipython",
    "version": 3
   },
   "file_extension": ".py",
   "mimetype": "text/x-python",
   "name": "python",
   "nbconvert_exporter": "python",
   "pygments_lexer": "ipython3",
   "version": "3.7.3"
  }
 },
 "nbformat": 4,
 "nbformat_minor": 5
}
